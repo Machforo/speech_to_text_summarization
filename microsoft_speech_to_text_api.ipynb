{
  "cells": [
    {
      "cell_type": "code",
      "execution_count": null,
      "metadata": {
        "colab": {
          "base_uri": "https://localhost:8080/",
          "height": 492
        },
        "id": "RhIMRXQPLaaA",
        "outputId": "ee11bcc4-44ab-4f96-ec5e-84d5b2f630b3"
      },
      "outputs": [
        {
          "name": "stdout",
          "output_type": "stream",
          "text": [
            "Collecting google-cloud-speech\n",
            "\u001b[?25l  Downloading https://files.pythonhosted.org/packages/0c/81/c59a373c7668beb9de922b9c4419b793898d46c6d4a44f4fe28098e77623/google_cloud_speech-1.3.1-py2.py3-none-any.whl (88kB)\n",
            "\r\u001b[K     |███▊                            | 10kB 33.9MB/s eta 0:00:01\r\u001b[K     |███████▍                        | 20kB 2.0MB/s eta 0:00:01\r\u001b[K     |███████████▏                    | 30kB 3.0MB/s eta 0:00:01\r\u001b[K     |██████████████▉                 | 40kB 2.0MB/s eta 0:00:01\r\u001b[K     |██████████████████▋             | 51kB 2.5MB/s eta 0:00:01\r\u001b[K     |██████████████████████▎         | 61kB 2.9MB/s eta 0:00:01\r\u001b[K     |██████████████████████████      | 71kB 3.4MB/s eta 0:00:01\r\u001b[K     |█████████████████████████████▊  | 81kB 3.9MB/s eta 0:00:01\r\u001b[K     |████████████████████████████████| 92kB 3.4MB/s \n",
            "\u001b[?25hRequirement already satisfied: google-api-core[grpc]<2.0.0dev,>=1.14.0 in /usr/local/lib/python3.6/dist-packages (from google-cloud-speech) (1.15.0)\n",
            "Requirement already satisfied: googleapis-common-protos<2.0dev,>=1.6.0 in /usr/local/lib/python3.6/dist-packages (from google-api-core[grpc]<2.0.0dev,>=1.14.0->google-cloud-speech) (1.6.0)\n",
            "Requirement already satisfied: protobuf>=3.4.0 in /usr/local/lib/python3.6/dist-packages (from google-api-core[grpc]<2.0.0dev,>=1.14.0->google-cloud-speech) (3.10.0)\n",
            "Requirement already satisfied: requests<3.0.0dev,>=2.18.0 in /usr/local/lib/python3.6/dist-packages (from google-api-core[grpc]<2.0.0dev,>=1.14.0->google-cloud-speech) (2.21.0)\n",
            "Requirement already satisfied: setuptools>=34.0.0 in /usr/local/lib/python3.6/dist-packages (from google-api-core[grpc]<2.0.0dev,>=1.14.0->google-cloud-speech) (42.0.2)\n",
            "Requirement already satisfied: pytz in /usr/local/lib/python3.6/dist-packages (from google-api-core[grpc]<2.0.0dev,>=1.14.0->google-cloud-speech) (2018.9)\n",
            "Requirement already satisfied: google-auth<2.0dev,>=0.4.0 in /usr/local/lib/python3.6/dist-packages (from google-api-core[grpc]<2.0.0dev,>=1.14.0->google-cloud-speech) (1.4.2)\n",
            "Requirement already satisfied: six>=1.10.0 in /usr/local/lib/python3.6/dist-packages (from google-api-core[grpc]<2.0.0dev,>=1.14.0->google-cloud-speech) (1.12.0)\n",
            "Requirement already satisfied: grpcio<2.0dev,>=1.8.2; extra == \"grpc\" in /usr/local/lib/python3.6/dist-packages (from google-api-core[grpc]<2.0.0dev,>=1.14.0->google-cloud-speech) (1.15.0)\n",
            "Requirement already satisfied: chardet<3.1.0,>=3.0.2 in /usr/local/lib/python3.6/dist-packages (from requests<3.0.0dev,>=2.18.0->google-api-core[grpc]<2.0.0dev,>=1.14.0->google-cloud-speech) (3.0.4)\n",
            "Requirement already satisfied: idna<2.9,>=2.5 in /usr/local/lib/python3.6/dist-packages (from requests<3.0.0dev,>=2.18.0->google-api-core[grpc]<2.0.0dev,>=1.14.0->google-cloud-speech) (2.8)\n",
            "Requirement already satisfied: urllib3<1.25,>=1.21.1 in /usr/local/lib/python3.6/dist-packages (from requests<3.0.0dev,>=2.18.0->google-api-core[grpc]<2.0.0dev,>=1.14.0->google-cloud-speech) (1.24.3)\n",
            "Requirement already satisfied: certifi>=2017.4.17 in /usr/local/lib/python3.6/dist-packages (from requests<3.0.0dev,>=2.18.0->google-api-core[grpc]<2.0.0dev,>=1.14.0->google-cloud-speech) (2019.11.28)\n",
            "Requirement already satisfied: rsa>=3.1.4 in /usr/local/lib/python3.6/dist-packages (from google-auth<2.0dev,>=0.4.0->google-api-core[grpc]<2.0.0dev,>=1.14.0->google-cloud-speech) (4.0)\n",
            "Requirement already satisfied: pyasn1-modules>=0.2.1 in /usr/local/lib/python3.6/dist-packages (from google-auth<2.0dev,>=0.4.0->google-api-core[grpc]<2.0.0dev,>=1.14.0->google-cloud-speech) (0.2.7)\n",
            "Requirement already satisfied: cachetools>=2.0.0 in /usr/local/lib/python3.6/dist-packages (from google-auth<2.0dev,>=0.4.0->google-api-core[grpc]<2.0.0dev,>=1.14.0->google-cloud-speech) (4.0.0)\n",
            "Requirement already satisfied: pyasn1>=0.1.3 in /usr/local/lib/python3.6/dist-packages (from rsa>=3.1.4->google-auth<2.0dev,>=0.4.0->google-api-core[grpc]<2.0.0dev,>=1.14.0->google-cloud-speech) (0.4.8)\n",
            "Installing collected packages: google-cloud-speech\n",
            "Successfully installed google-cloud-speech-1.3.1\n"
          ]
        },
        {
          "data": {
            "application/vnd.colab-display-data+json": {
              "pip_warning": {
                "packages": [
                  "google"
                ]
              }
            }
          },
          "metadata": {
            "tags": []
          },
          "output_type": "display_data"
        }
      ],
      "source": [
        "!pip3 install google-cloud-speech"
      ]
    },
    {
      "cell_type": "markdown",
      "metadata": {
        "id": "QUjuKePpRJt5"
      },
      "source": [
        "2. **Download audio files for testing**\n",
        "\n",
        "Following files will be used as test cases for all speech recognition alternatives covered in this notebook."
      ]
    },
    {
      "cell_type": "code",
      "execution_count": null,
      "metadata": {
        "colab": {
          "base_uri": "https://localhost:8080/",
          "height": 286
        },
        "id": "t3_2z6qMRXcY",
        "outputId": "c155e814-439b-4fb0-d26f-307516b3ab97"
      },
      "outputs": [
        {
          "name": "stdout",
          "output_type": "stream",
          "text": [
            "  % Total    % Received % Xferd  Average Speed   Time    Time     Time  Current\n",
            "                                 Dload  Upload   Total   Spent    Left  Speed\n",
            "100   608    0   608    0     0   2632      0 --:--:-- --:--:-- --:--:--  2620\n",
            "100  192k  100  192k    0     0   310k      0 --:--:-- --:--:-- --:--:--  310k\n",
            "audio/\n",
            "audio/2830-3980-0043.wav\n",
            "audio/Attribution.txt\n",
            "audio/4507-16021-0012.wav\n",
            "audio/8455-210777-0068.wav\n",
            "audio/License.txt\n",
            "total 260\n",
            "-rw-r--r-- 1 501 staff 63244 Nov 18  2017 2830-3980-0043.wav\n",
            "-rw-r--r-- 1 501 staff 87564 Nov 18  2017 4507-16021-0012.wav\n",
            "-rw-r--r-- 1 501 staff 82924 Nov 18  2017 8455-210777-0068.wav\n",
            "-rw-r--r-- 1 501 staff   340 May 14  2018 Attribution.txt\n",
            "-rw-r--r-- 1 501 staff 18652 May 12  2018 License.txt\n"
          ]
        }
      ],
      "source": [
        "!curl -LO https://github.com/mozilla/DeepSpeech/releases/download/v0.6.0/audio-0.6.0.tar.gz\n",
        "!tar -xvzf audio-0.6.0.tar.gz\n",
        "!ls -l ./audio/"
      ]
    },
    {
      "cell_type": "markdown",
      "metadata": {
        "id": "wXzH4pu9Kxr4"
      },
      "source": [
        "3. **Define test cases**"
      ]
    },
    {
      "cell_type": "code",
      "execution_count": null,
      "metadata": {
        "id": "nbzYo01kRi8P"
      },
      "outputs": [],
      "source": [
        "TESTCASES = [\n",
        "  {\n",
        "    'filename': 'audio/2830-3980-0043.wav',\n",
        "    'text': 'experience proves this',\n",
        "    'encoding': 'LINEAR16',\n",
        "    'lang': 'en-US'\n",
        "  },\n",
        "  {\n",
        "    'filename': 'audio/4507-16021-0012.wav',\n",
        "    'text': 'why should one halt on the way',\n",
        "    'encoding': 'LINEAR16',\n",
        "    'lang': 'en-US'\n",
        "  },\n",
        "  {\n",
        "    'filename': 'audio/8455-210777-0068.wav',\n",
        "    'text': 'your power is sufficient i said',\n",
        "    'encoding': 'LINEAR16',\n",
        "    'lang': 'en-US'\n",
        "  }\n",
        "]"
      ]
    },
    {
      "cell_type": "markdown",
      "metadata": {
        "id": "f-23iCNLvBIx"
      },
      "source": [
        "4. **Utility Functions**"
      ]
    },
    {
      "cell_type": "code",
      "execution_count": null,
      "metadata": {
        "id": "Ujeuvj35Ksv8"
      },
      "outputs": [],
      "source": [
        "from typing import Tuple\n",
        "import wave\n",
        "\n",
        "def read_wav_file(filename) -> Tuple[bytes, int]:\n",
        "    with wave.open(filename, 'rb') as w:\n",
        "        rate = w.getframerate()\n",
        "        frames = w.getnframes()\n",
        "        buffer = w.readframes(frames)\n",
        "\n",
        "    return buffer, rate\n",
        "\n",
        "def simulate_stream(buffer: bytes, batch_size: int = 4096):\n",
        "    buffer_len = len(buffer)\n",
        "    offset = 0\n",
        "    while offset < buffer_len:\n",
        "        end_offset = offset + batch_size\n",
        "        buf = buffer[offset:end_offset]\n",
        "        yield buf\n",
        "        offset = end_offset"
      ]
    },
    {
      "cell_type": "markdown",
      "metadata": {
        "id": "mk8NgzQIlwwX"
      },
      "source": [
        "## Setup\n",
        "\n",
        "1. **Install azure speech package**"
      ]
    },
    {
      "cell_type": "code",
      "execution_count": null,
      "metadata": {
        "colab": {
          "base_uri": "https://localhost:8080/",
          "height": 121
        },
        "id": "2A5YJHlswQSs",
        "outputId": "4f2e7f65-dfcc-450e-cb26-c9ca780957c7"
      },
      "outputs": [
        {
          "name": "stdout",
          "output_type": "stream",
          "text": [
            "Collecting azure-cognitiveservices-speech\n",
            "\u001b[?25l  Downloading https://files.pythonhosted.org/packages/a0/d8/690896a3543b7bed058029b1b3450f4ce2e952d19347663fe570e6dec72c/azure_cognitiveservices_speech-1.9.0-cp36-cp36m-manylinux1_x86_64.whl (3.9MB)\n",
            "\u001b[K     |████████████████████████████████| 3.9MB 3.4MB/s \n",
            "\u001b[?25hInstalling collected packages: azure-cognitiveservices-speech\n",
            "Successfully installed azure-cognitiveservices-speech-1.9.0\n"
          ]
        }
      ],
      "source": [
        "!pip3 install azure-cognitiveservices-speech"
      ]
    },
    {
      "cell_type": "markdown",
      "metadata": {
        "id": "K4ME2jnAimEQ"
      },
      "source": [
        "2. **Set service credentials**\n",
        "\n",
        "You can enable Speech service and find credentials for your account at [Microsoft Azure portal](https://portal.azure.com/). You can open a free account [here](https://azure.microsoft.com/en-in/free/ai/)."
      ]
    },
    {
      "cell_type": "code",
      "execution_count": null,
      "metadata": {
        "id": "rSqzFx-lwyz7"
      },
      "outputs": [],
      "source": [
        "AZURE_SPEECH_KEY = 'YOUR AZURE SPEECH KEY'\n",
        "AZURE_SERVICE_REGION = 'YOUR AZURE SERVICE REGION'"
      ]
    },
    {
      "cell_type": "markdown",
      "metadata": {
        "id": "ZVvMt_qylUjF"
      },
      "source": [
        "## Batch API"
      ]
    },
    {
      "cell_type": "code",
      "execution_count": null,
      "metadata": {
        "colab": {
          "base_uri": "https://localhost:8080/",
          "height": 168
        },
        "id": "rRMjNB68wYYN",
        "outputId": "7539fb6e-1625-4931-f981-96874628c934"
      },
      "outputs": [
        {
          "name": "stdout",
          "output_type": "stream",
          "text": [
            "\n",
            "audio file=\"audio/2830-3980-0043.wav\"    expected text=\"experience proves this\"\n",
            "azure-batch-stt: \"Experience proves this.\"\n",
            "\n",
            "audio file=\"audio/4507-16021-0012.wav\"    expected text=\"why should one halt on the way\"\n",
            "azure-batch-stt: \"Whi should one halt on the way.\"\n",
            "\n",
            "audio file=\"audio/8455-210777-0068.wav\"    expected text=\"your power is sufficient i said\"\n",
            "azure-batch-stt: \"Your power is sufficient I said.\"\n"
          ]
        }
      ],
      "source": [
        "import azure.cognitiveservices.speech as speechsdk\n",
        "\n",
        "def azure_batch_stt(filename: str, lang: str, encoding: str) -> str:\n",
        "    speech_config = speechsdk.SpeechConfig(\n",
        "        subscription=AZURE_SPEECH_KEY,\n",
        "        region=AZURE_SERVICE_REGION\n",
        "    )\n",
        "    audio_input = speechsdk.AudioConfig(filename=filename)\n",
        "    speech_recognizer = speechsdk.SpeechRecognizer(\n",
        "        speech_config=speech_config,\n",
        "        audio_config=audio_input\n",
        "    )\n",
        "    result = speech_recognizer.recognize_once()\n",
        "\n",
        "    return result.text if result.reason == speechsdk.ResultReason.RecognizedSpeech else None\n",
        "\n",
        "# Run tests\n",
        "for t in TESTCASES:\n",
        "    print('\\naudio file=\"{0}\"    expected text=\"{1}\"'.format(t['filename'], t['text']))\n",
        "    print('azure-batch-stt: \"{}\"'.format(\n",
        "        azure_batch_stt(t['filename'], t['lang'], t['encoding'])\n",
        "    ))"
      ]
    },
    {
      "cell_type": "markdown",
      "metadata": {
        "id": "aXd7OC7plbAu"
      },
      "source": [
        "## Streaming API"
      ]
    },
    {
      "cell_type": "code",
      "execution_count": null,
      "metadata": {
        "colab": {
          "base_uri": "https://localhost:8080/",
          "height": 521
        },
        "id": "IzfBW4kczY9l",
        "outputId": "8694efbf-5886-4359-ec6c-5b6f3c970372"
      },
      "outputs": [
        {
          "name": "stdout",
          "output_type": "stream",
          "text": [
            "\n",
            "audio file=\"audio/2830-3980-0043.wav\"    expected text=\"experience proves this\"\n",
            "interim text: \"experience\"\n",
            "interim text: \"experienced\"\n",
            "interim text: \"experience\"\n",
            "interim text: \"experience proves\"\n",
            "interim text: \"experience proves this\"\n",
            "azure-streaming-stt: \"Experience proves this.\"\n",
            "\n",
            "audio file=\"audio/4507-16021-0012.wav\"    expected text=\"why should one halt on the way\"\n",
            "interim text: \"huaisheng\"\n",
            "interim text: \"white\"\n",
            "interim text: \"whi should\"\n",
            "interim text: \"whi should one\"\n",
            "interim text: \"whi should one halt\"\n",
            "interim text: \"whi should one halt on\"\n",
            "interim text: \"whi should one halt on the\"\n",
            "interim text: \"whi should one halt on the way\"\n",
            "azure-streaming-stt: \"Whi should one halt on the way.\"\n",
            "\n",
            "audio file=\"audio/8455-210777-0068.wav\"    expected text=\"your power is sufficient i said\"\n",
            "interim text: \"you're\"\n",
            "interim text: \"your\"\n",
            "interim text: \"your power\"\n",
            "interim text: \"your\"\n",
            "interim text: \"your power is\"\n",
            "interim text: \"your power is sufficient\"\n",
            "interim text: \"your power is sufficient i\"\n",
            "interim text: \"your power is sufficient i said\"\n",
            "azure-streaming-stt: \"Your power is sufficient I said.\"\n"
          ]
        }
      ],
      "source": [
        "import time\n",
        "import azure.cognitiveservices.speech as speechsdk\n",
        "\n",
        "def azure_streaming_stt(filename: str, lang: str, encoding: str) -> str:\n",
        "    speech_config = speechsdk.SpeechConfig(\n",
        "        subscription=AZURE_SPEECH_KEY,\n",
        "        region=AZURE_SERVICE_REGION\n",
        "    )\n",
        "    stream = speechsdk.audio.PushAudioInputStream()\n",
        "    audio_config = speechsdk.audio.AudioConfig(stream=stream)\n",
        "    speech_recognizer = speechsdk.SpeechRecognizer(\n",
        "        speech_config=speech_config,\n",
        "        audio_config=audio_config\n",
        "    )\n",
        "\n",
        "    # Connect callbacks to the events fired by the speech recognizer\n",
        "    speech_recognizer.recognizing.connect(lambda evt: print('interim text: \"{}\"'.format(evt.result.text)))\n",
        "    speech_recognizer.recognized.connect(lambda evt:  print('azure-streaming-stt: \"{}\"'.format(evt.result.text)))\n",
        "\n",
        "    # start continuous speech recognition\n",
        "    speech_recognizer.start_continuous_recognition()\n",
        "\n",
        "    # push buffer chunks to stream\n",
        "    buffer, rate = read_wav_file(filename)\n",
        "    audio_generator = simulate_stream(buffer)\n",
        "    for chunk in audio_generator:\n",
        "      stream.write(chunk)\n",
        "      time.sleep(0.1)  # to give callback a chance against this fast loop\n",
        "\n",
        "    # stop continuous speech recognition\n",
        "    stream.close()\n",
        "    time.sleep(0.5)  # give chance to VAD to kick in\n",
        "    speech_recognizer.stop_continuous_recognition()\n",
        "    time.sleep(0.5)  # Let all callback run\n",
        "\n",
        "# Run tests\n",
        "for t in TESTCASES:\n",
        "    print('\\naudio file=\"{0}\"    expected text=\"{1}\"'.format(t['filename'], t['text']))\n",
        "    azure_streaming_stt(t['filename'], t['lang'], t['encoding'])"
      ]
    }
  ],
  "metadata": {
    "accelerator": "GPU",
    "colab": {
      "provenance": [],
      "toc_visible": true
    },
    "kernelspec": {
      "display_name": "Python 3.7.12 64-bit ('kaggle')",
      "language": "python",
      "name": "python3"
    },
    "language_info": {
      "name": "python",
      "version": "3.7.12"
    },
    "vscode": {
      "interpreter": {
        "hash": "180997e3444791da3f2b3061c2f2c1b4404ea4925238c499191fa40f3054d99b"
      }
    }
  },
  "nbformat": 4,
  "nbformat_minor": 0
}